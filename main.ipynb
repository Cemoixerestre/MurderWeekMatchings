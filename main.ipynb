{
 "cells": [
  {
   "cell_type": "code",
   "execution_count": 1,
   "metadata": {
    "pycharm": {
     "name": "#%%\n"
    },
    "scrolled": false
   },
   "outputs": [
    {
     "name": "stdout",
     "output_type": "stream",
     "text": [
      "Defaulting to user installation because normal site-packages is not writeable\n",
      "Requirement already satisfied: pandas in /home/reynaual/.local/lib/python3.10/site-packages (2.0.0)\n",
      "Requirement already satisfied: mip in /home/reynaual/.local/lib/python3.10/site-packages (1.15.0)\n",
      "Requirement already satisfied: numpy>=1.21.0 in /usr/lib/python3/dist-packages (from pandas) (1.21.5)\n",
      "Requirement already satisfied: python-dateutil>=2.8.2 in /home/reynaual/.local/lib/python3.10/site-packages (from pandas) (2.8.2)\n",
      "Requirement already satisfied: pytz>=2020.1 in /usr/lib/python3/dist-packages (from pandas) (2022.1)\n",
      "Requirement already satisfied: tzdata>=2022.1 in /home/reynaual/.local/lib/python3.10/site-packages (from pandas) (2023.3)\n",
      "Requirement already satisfied: cffi==1.15.* in /home/reynaual/.local/lib/python3.10/site-packages (from mip) (1.15.1)\n",
      "Requirement already satisfied: pycparser in /home/reynaual/.local/lib/python3.10/site-packages (from cffi==1.15.*->mip) (2.21)\n",
      "Requirement already satisfied: six>=1.5 in /usr/lib/python3/dist-packages (from python-dateutil>=2.8.2->pandas) (1.16.0)\n",
      "Note: you may need to restart the kernel to use updated packages.\n"
     ]
    }
   ],
   "source": [
    "%pip install pandas mip"
   ]
  },
  {
   "cell_type": "code",
   "execution_count": 2,
   "metadata": {
    "pycharm": {
     "name": "#%%\n"
    }
   },
   "outputs": [],
   "source": [
    "from pathlib import Path\n",
    "from activityMatch import Matching\n",
    "from loader import load_activities_and_players"
   ]
  },
  {
   "cell_type": "code",
   "execution_count": 3,
   "metadata": {
    "pycharm": {
     "name": "#%%\n"
    }
   },
   "outputs": [
    {
     "name": "stdout",
     "output_type": "stream",
     "text": [
      "Detected 10 columns containing wishes\n",
      "WARNING. Could not find activity Euterpe in the activity list. Check your activity file.\n",
      "WARNING. Could not find activity Lumis in the activity list. Check your activity file.\n",
      "WARNING. Could not find activity Euterpe in the activity list. Check your activity file.\n",
      "WARNING. Could not find activity Papers in the activity list. Check your activity file.\n",
      "WARNING. Could not find activity Papers in the activity list. Check your activity file.\n",
      "WARNING. Could not find activity Lumis in the activity list. Check your activity file.\n",
      "WARNING. Could not find activity Lumis in the activity list. Check your activity file.\n",
      "WARNING. Could not find activity Papers in the activity list. Check your activity file.\n",
      "Could not find player Y\n",
      "Could not find player Z\n",
      "Could not find player Y\n",
      "Could not find player Y\n",
      "Could not find player Y\n",
      "Could not find player Y\n",
      "Could not find player Y\n",
      "Could not find player Y\n",
      "Could not find player Y\n",
      "Could not find player Y\n",
      "Could not find player Y\n",
      "Could not find player Y\n",
      "Could not find player Y\n",
      "Could not find player Y\n",
      "Could not find player Y\n",
      "Could not find player Y\n",
      "Could not find player Y\n",
      "Could not find player Y\n",
      "Could not find player Y\n",
      "Could not find player Y\n",
      "Could not find player Y\n",
      "Could not find player Y\n",
      "Processed player A\n",
      "Found wishes where not available :\n",
      "- 12 | ☾ Éclipse ☉ | 0 / 8 players | 26/08 19:00-23:59\n",
      "- 5 | Que vienne la nuit | 0 / 6 players | 23/08 20:00-23:59\n",
      "- 8 | À travers les ténèbres | 0 / 4 players | 24/08 20:00-23:59\n",
      "- 1 | À travers les ténèbres | 0 / 4 players | 22/08 20:00-23:59\n",
      "- 6 | Nostalgie d'innocence | 0 / 4 players | 24/08 13:00-18:59\n",
      "- 9 | Les Enfants de la Nuit d'Eté | 0 / 10 players | 24/08 19:00-23:59\n",
      "Processed player B\n",
      "Processed player C\n",
      "Processed player D\n",
      "Processed player E\n",
      "Processed player F\n",
      "Found wishes where not available :\n",
      "- 11 | Silence au Quatrième Étage | 0 / 6 players | 25/08 19:00-23:59\n",
      "- 6 | Nostalgie d'innocence | 0 / 4 players | 24/08 13:00-18:59\n",
      "- 7 | Le Dilemme de Chronos | 0 / 4 players | 24/08 20:00-23:00\n",
      "- 5 | Que vienne la nuit | 0 / 6 players | 23/08 20:00-23:59\n",
      "Processed player G\n",
      "Found wishes where not available :\n",
      "- 0 | Pensine | 0 / 5 players | 22/08 10:00-20:00\n",
      "Processed player H\n",
      "Processed player I\n",
      "Found wishes where not available :\n",
      "- 1 | À travers les ténèbres | 0 / 4 players | 22/08 20:00-23:59\n",
      "- 9 | Les Enfants de la Nuit d'Eté | 0 / 10 players | 24/08 19:00-23:59\n",
      "- 8 | À travers les ténèbres | 0 / 4 players | 24/08 20:00-23:59\n",
      "Processed player J\n"
     ]
    }
   ],
   "source": [
    "(activities, players) = load_activities_and_players(Path('data/format_standard_activites.csv'), Path('data/format_standard_inscriptions.csv'))"
   ]
  },
  {
   "cell_type": "code",
   "execution_count": 4,
   "metadata": {
    "pycharm": {
     "name": "#%%\n"
    }
   },
   "outputs": [
    {
     "name": "stdout",
     "output_type": "stream",
     "text": [
      "Activities given to each player:\n",
      "* A | Got 0 activities. Ideal inf. Max inf.\n",
      "  + Activities\n",
      "* B | Got 0 activities. Ideal 5. Max 20.\n",
      "  + Activities\n",
      "* C | Got 0 activities. Ideal 2. Max 2.\n",
      "  + Activities\n",
      "* D | Got 0 activities. Ideal 7. Max 7.\n",
      "  + Activities\n",
      "* E | Got 0 activities. Ideal 4. Max 4.\n",
      "  + Activities\n",
      "* F | Got 0 activities. Ideal 2. Max 4.\n",
      "  + Activities\n",
      "* G | Got 0 activities. Ideal 2. Max 3.\n",
      "  + Activities\n",
      "* H | Got 0 activities. Ideal 10. Max 10.\n",
      "  + Activities\n",
      "* I | Got 0 activities. Ideal 2. Max 3.\n",
      "  + Activities\n",
      "* J | Got 0 activities. Ideal 5. Max 6.\n",
      "  + Activities\n",
      "Players with less activities than ideal:\t10 (= 100.0%)\n",
      "Players with ideal number of activities:\t0 (= 0.0%)\n",
      "Players with more activities than ideal:\t0 (= 0.0%)\n",
      "\n",
      "Players who did not obtain their best choice: 0 | A 1 | B 2 | C 3 | D 4 | E 5 | F 6 | G 7 | H 8 | I 9 | J\n",
      "Nb of top 3 choices: 0\n",
      "\n",
      "Activities with a full cast:\n",
      "Activities WITHOUT a full cast:\n",
      "* 0 | Pensine | 0 / 5 players | 22/08 10:00-20:00\n",
      " Missing 5 more\n",
      "\n",
      "* 1 | À travers les ténèbres | 0 / 4 players | 22/08 20:00-23:59\n",
      " Missing 4 more\n",
      "\n",
      "* 2 | Hotel California | 0 / 7 players | 22/08 20:00-23:00\n",
      " Missing 7 more\n",
      "\n",
      "* 3 | This is Halloween | 0 / 7 players | 23/08 13:00-19:00\n",
      " Missing 7 more\n",
      "\n",
      "* 4 | Songes d'une nuit d'hiver | 0 / 9 players | 23/08 19:00-23:59\n",
      " Missing 9 more\n",
      "\n",
      "* 5 | Que vienne la nuit | 0 / 6 players | 23/08 20:00-23:59\n",
      " Missing 6 more\n",
      "\n",
      "* 6 | Nostalgie d'innocence | 0 / 4 players | 24/08 13:00-18:59\n",
      " Missing 4 more\n",
      "\n",
      "* 7 | Le Dilemme de Chronos | 0 / 4 players | 24/08 20:00-23:00\n",
      " Missing 4 more\n",
      "\n",
      "* 8 | À travers les ténèbres | 0 / 4 players | 24/08 20:00-23:59\n",
      " Missing 4 more\n",
      "\n",
      "* 9 | Les Enfants de la Nuit d'Eté | 0 / 10 players | 24/08 19:00-23:59\n",
      " Missing 10 more\n",
      "\n",
      "* 10 | La nouvelle maison des Barbapapas | 0 / 9 players | 25/08 14:00-18:59\n",
      " Missing 9 more\n",
      "\n",
      "* 11 | Silence au Quatrième Étage | 0 / 6 players | 25/08 19:00-23:59\n",
      " Missing 6 more\n",
      "\n",
      "* 12 | ☾ Éclipse ☉ | 0 / 8 players | 26/08 19:00-23:59\n",
      " Missing 8 more\n",
      "\n",
      "* 13 | Au dernier repos | 0 / 8 players | 27/08 11:00-16:59\n",
      " Missing 8 more\n",
      "\n",
      "* 14 | ☾ Éclipse ☉ | 0 / 8 players | 27/08 14:00-18:59\n",
      " Missing 8 more\n",
      "\n",
      "* 15 | Zero Escape Radical Outcome | 0 / 9 players | 27/08 19:00-23:59\n",
      " Missing 9 more\n",
      "\n",
      "* 16 | Star Potter des Anneaux | 0 / 100 players | 28/08 10:00-13:59\n",
      " Missing 100 more\n",
      "\n",
      "* 17 | WINTERHORN | 0 / 5 players | 28/08 10:00-15:00\n",
      " Missing 5 more\n",
      "\n",
      "* 18 | En suivant l'Alouette | 0 / 7 players | 28/08 14:00-23:59\n",
      " Missing 7 more\n",
      "\n",
      "* 19 | Le dortoir des papillons | 0 / 6 players | 28/08 19:00-23:59\n",
      " Missing 6 more\n",
      "\n",
      "* 20 | Le Dilemme de Chronos | 0 / 4 players | 27/08 09:30-12:30\n",
      " Missing 4 more\n",
      "\n"
     ]
    }
   ],
   "source": [
    "matching = Matching(players, activities, decay=0.6)\n",
    "matching.print_players_status()\n",
    "print(\"\")\n",
    "matching.print_activities_status()"
   ]
  },
  {
   "cell_type": "code",
   "execution_count": 5,
   "metadata": {
    "pycharm": {
     "name": "#%%\n"
    }
   },
   "outputs": [
    {
     "name": "stdout",
     "output_type": "stream",
     "text": [
      "Multiple activities have the name ☾ Éclipse ☉. We will make sure that the player E is affected to one of those. If you want to assign E to a particular activity, you should use the method `force_assign_activity_by_id`.\n"
     ]
    }
   ],
   "source": [
    "matching.force_assign_activity(\"E\", \"☾ Éclipse ☉\")"
   ]
  },
  {
   "cell_type": "code",
   "execution_count": 6,
   "metadata": {
    "pycharm": {
     "name": "#%%\n"
    }
   },
   "outputs": [
    {
     "name": "stdout",
     "output_type": "stream",
     "text": [
      "Welcome to the CBC MILP Solver \n",
      "Version: Trunk\n",
      "Build Date: Oct 24 2021 \n",
      "\n",
      "Starting solution of the Linear programming relaxation problem using Primal Simplex\n",
      "\n",
      "Coin0506I Presolve 38 (-38) rows, 41 (-49) columns and 115 (-130) elements\n",
      "Clp1000I sum of infeasibilities 2.32317e-08 - average 6.1136e-10, 12 fixed columns\n",
      "Coin0506I Presolve 36 (-2) rows, 29 (-12) columns and 99 (-16) elements\n",
      "Clp0029I End of values pass after 29 iterations\n",
      "Clp0014I Perturbing problem by 0.001% of 1.5076938 - largest nonzero change 2.8691903e-05 ( 0.0014345952%) - largest zero change 2.8543944e-05\n",
      "Clp0000I Optimal - objective value 13.013519\n",
      "Clp0000I Optimal - objective value 13.013519\n",
      "Coin0511I After Postsolve, objective 13.013519, infeasibilities - dual 0 (0), primal 0 (0)\n",
      "Clp0014I Perturbing problem by 0.001% of 1.4936722 - largest nonzero change 2.6257447e-05 ( 0.0012898605%) - largest zero change 2.8691903e-05\n",
      "Clp0000I Optimal - objective value 17.236726\n",
      "Clp0000I Optimal - objective value 17.236726\n",
      "Clp0000I Optimal - objective value 17.236726\n",
      "Coin0511I After Postsolve, objective 17.236726, infeasibilities - dual 0.1382399 (1), primal 0 (0)\n",
      "Coin0512I Presolved model was optimal, full model needs cleaning up\n",
      "Clp0000I Optimal - objective value 17.236726\n",
      "Clp0032I Optimal objective 17.23672576 - 1 iterations time 0.002, Presolve 0.00, Idiot 0.00\n",
      "\n",
      "Starting MIP optimization\n",
      "Cgl0003I 0 fixed, 0 tightened bounds, 2 strengthened rows, 0 substitutions\n",
      "Cgl0003I 0 fixed, 0 tightened bounds, 1 strengthened rows, 0 substitutions\n",
      "Cgl0003I 0 fixed, 0 tightened bounds, 2 strengthened rows, 0 substitutions\n",
      "Cgl0004I processed model has 26 rows, 38 columns (38 integer (38 of which binary)) and 82 elements\n",
      "Coin3009W Conflict graph built in 0.000 seconds, density: 2.016%\n",
      "Cgl0015I Clique Strengthening extended 0 cliques, 0 were dominated\n",
      "Cbc0045I Nauty did not find any useful orbits in time 2.5e-05\n",
      "Cbc0038I Initial state - 0 integers unsatisfied sum - 0\n",
      "Cbc0038I Solution found of -17.2367\n",
      "Cbc0038I Before mini branch and bound, 38 integers at bound fixed and 0 continuous\n",
      "Cbc0038I Mini branch and bound did not improve solution (0.00 seconds)\n",
      "Cbc0038I After 0.00 seconds - Feasibility pump exiting with objective of -17.2367 - took 0.00 seconds\n",
      "Cbc0012I Integer solution of -17.236726 found by feasibility pump after 0 iterations and 0 nodes (0.00 seconds)\n",
      "Cbc0001I Search completed - best objective -17.23672576, took 0 iterations and 0 nodes (0.00 seconds)\n",
      "Cbc0035I Maximum depth 0, 0 variables fixed on reduced cost\n",
      "Total time (CPU seconds):       0.00   (Wallclock seconds):       0.00\n",
      "\n",
      "Starting solution of the Linear programming relaxation problem using Primal Simplex\n",
      "\n",
      "Clp0029I End of values pass after 2 iterations\n",
      "Clp0000I Optimal - objective value 17.342479\n",
      "\n",
      "Starting MIP optimization\n"
     ]
    }
   ],
   "source": [
    "matching.solve(verbose=True)"
   ]
  },
  {
   "cell_type": "code",
   "execution_count": 7,
   "metadata": {
    "pycharm": {
     "name": "#%%\n"
    }
   },
   "outputs": [
    {
     "name": "stdout",
     "output_type": "stream",
     "text": [
      "Activities given to each player:\n",
      "* A | Got 1 activities. Ideal inf. Max inf.\n",
      "  + Activities\n",
      "    - ☾ Éclipse ☉ | 27/08 14:00-18:59\n",
      "* B | Got 6 activities. Ideal 5. Max 20.\n",
      "  + Activities\n",
      "    - This is Halloween | 23/08 13:00-19:00\n",
      "    - Que vienne la nuit | 23/08 20:00-23:59\n",
      "    - La nouvelle maison des Barbapapas | 25/08 14:00-18:59\n",
      "    - Silence au Quatrième Étage | 25/08 19:00-23:59\n",
      "    - Le Dilemme de Chronos | 27/08 09:30-12:30\n",
      "    - En suivant l'Alouette | 28/08 14:00-23:59\n",
      "* C | Got 2 activities. Ideal 2. Max 2.\n",
      "  + Activities\n",
      "    - Nostalgie d'innocence | 24/08 13:00-18:59\n",
      "    - WINTERHORN | 28/08 10:00-15:00\n",
      "* D | Got 6 activities. Ideal 7. Max 7.\n",
      "  + Activities\n",
      "    - Pensine | 22/08 10:00-20:00\n",
      "    - À travers les ténèbres | 22/08 20:00-23:59\n",
      "    - This is Halloween | 23/08 13:00-19:00\n",
      "    - Songes d'une nuit d'hiver | 23/08 19:00-23:59\n",
      "    - Le Dilemme de Chronos | 24/08 20:00-23:00\n",
      "    - Au dernier repos | 27/08 11:00-16:59\n",
      "* E | Got 4 activities. Ideal 4. Max 4.\n",
      "  + Activities\n",
      "    - Nostalgie d'innocence | 24/08 13:00-18:59\n",
      "    - Silence au Quatrième Étage | 25/08 19:00-23:59\n",
      "    - ☾ Éclipse ☉ | 26/08 19:00-23:59\n",
      "    - En suivant l'Alouette | 28/08 14:00-23:59\n",
      "* F | Got 1 activities. Ideal 2. Max 4.\n",
      "  + Activities\n",
      "    - Au dernier repos | 27/08 11:00-16:59\n",
      "* G | Got 2 activities. Ideal 2. Max 3.\n",
      "  + Activities\n",
      "    - Zero Escape Radical Outcome | 27/08 19:00-23:59\n",
      "    - Le dortoir des papillons | 28/08 19:00-23:59\n",
      "* H | Got 9 activities. Ideal 10. Max 10.\n",
      "  + Activities\n",
      "    - Hotel California | 22/08 20:00-23:00\n",
      "    - This is Halloween | 23/08 13:00-19:00\n",
      "    - À travers les ténèbres | 24/08 20:00-23:59\n",
      "    - La nouvelle maison des Barbapapas | 25/08 14:00-18:59\n",
      "    - Silence au Quatrième Étage | 25/08 19:00-23:59\n",
      "    - Au dernier repos | 27/08 11:00-16:59\n",
      "    - Zero Escape Radical Outcome | 27/08 19:00-23:59\n",
      "    - Star Potter des Anneaux | 28/08 10:00-13:59\n",
      "    - En suivant l'Alouette | 28/08 14:00-23:59\n",
      "* I | Got 1 activities. Ideal 2. Max 3.\n",
      "  + Activities\n",
      "    - Le dortoir des papillons | 28/08 19:00-23:59\n",
      "* J | Got 6 activities. Ideal 5. Max 6.\n",
      "  + Activities\n",
      "    - Les Enfants de la Nuit d'Eté | 24/08 19:00-23:59\n",
      "    - La nouvelle maison des Barbapapas | 25/08 14:00-18:59\n",
      "    - Le Dilemme de Chronos | 27/08 09:30-12:30\n",
      "    - ☾ Éclipse ☉ | 27/08 14:00-18:59\n",
      "    - WINTERHORN | 28/08 10:00-15:00\n",
      "    - Le dortoir des papillons | 28/08 19:00-23:59\n",
      "Players with less activities than ideal:\t5 (= 50.0%)\n",
      "Players with ideal number of activities:\t3 (= 30.0%)\n",
      "Players with more activities than ideal:\t2 (= 20.0%)\n",
      "\n",
      "Players who did not obtain their best choice: \n",
      "Nb of top 3 choices: 21\n"
     ]
    }
   ],
   "source": [
    "matching.print_players_status()"
   ]
  },
  {
   "cell_type": "code",
   "execution_count": 8,
   "metadata": {
    "pycharm": {
     "name": "#%%\n"
    }
   },
   "outputs": [
    {
     "name": "stdout",
     "output_type": "stream",
     "text": [
      "Activities with a full cast:\n",
      "Activities WITHOUT a full cast:\n",
      "* 0 | Pensine | 1 / 5 players | 22/08 10:00-20:00\n",
      "  - D\n",
      " Missing 4 more\n",
      "\n",
      "* 1 | À travers les ténèbres | 1 / 4 players | 22/08 20:00-23:59\n",
      "  - D\n",
      " Missing 3 more\n",
      "\n",
      "* 2 | Hotel California | 1 / 7 players | 22/08 20:00-23:00\n",
      "  - H\n",
      " Missing 6 more\n",
      "\n",
      "* 3 | This is Halloween | 3 / 7 players | 23/08 13:00-19:00\n",
      "  - B\n",
      "  - D\n",
      "  - H\n",
      " Missing 4 more\n",
      "\n",
      "* 4 | Songes d'une nuit d'hiver | 1 / 9 players | 23/08 19:00-23:59\n",
      "  - D\n",
      " Missing 8 more\n",
      "\n",
      "* 5 | Que vienne la nuit | 1 / 6 players | 23/08 20:00-23:59\n",
      "  - B\n",
      " Missing 5 more\n",
      "\n",
      "* 6 | Nostalgie d'innocence | 2 / 4 players | 24/08 13:00-18:59\n",
      "  - C\n",
      "  - E\n",
      " Missing 2 more\n",
      "\n",
      "* 7 | Le Dilemme de Chronos | 1 / 4 players | 24/08 20:00-23:00\n",
      "  - D\n",
      " Missing 3 more\n",
      "\n",
      "* 8 | À travers les ténèbres | 1 / 4 players | 24/08 20:00-23:59\n",
      "  - H\n",
      " Missing 3 more\n",
      "\n",
      "* 9 | Les Enfants de la Nuit d'Eté | 1 / 10 players | 24/08 19:00-23:59\n",
      "  - J\n",
      " Missing 9 more\n",
      "\n",
      "* 10 | La nouvelle maison des Barbapapas | 3 / 9 players | 25/08 14:00-18:59\n",
      "  - B\n",
      "  - H\n",
      "  - J\n",
      " Missing 6 more\n",
      "\n",
      "* 11 | Silence au Quatrième Étage | 3 / 6 players | 25/08 19:00-23:59\n",
      "  - B\n",
      "  - E\n",
      "  - H\n",
      " Missing 3 more\n",
      "\n",
      "* 12 | ☾ Éclipse ☉ | 1 / 8 players | 26/08 19:00-23:59\n",
      "  - E\n",
      " Missing 7 more\n",
      "\n",
      "* 13 | Au dernier repos | 3 / 8 players | 27/08 11:00-16:59\n",
      "  - D\n",
      "  - F\n",
      "  - H\n",
      " Missing 5 more\n",
      "\n",
      "* 14 | ☾ Éclipse ☉ | 2 / 8 players | 27/08 14:00-18:59\n",
      "  - A\n",
      "  - J\n",
      " Missing 6 more\n",
      "\n",
      "* 15 | Zero Escape Radical Outcome | 2 / 9 players | 27/08 19:00-23:59\n",
      "  - G\n",
      "  - H\n",
      " Missing 7 more\n",
      "\n",
      "* 16 | Star Potter des Anneaux | 1 / 100 players | 28/08 10:00-13:59\n",
      "  - H\n",
      " Missing 99 more\n",
      "\n",
      "* 17 | WINTERHORN | 2 / 5 players | 28/08 10:00-15:00\n",
      "  - C\n",
      "  - J\n",
      " Missing 3 more\n",
      "\n",
      "* 18 | En suivant l'Alouette | 3 / 7 players | 28/08 14:00-23:59\n",
      "  - B\n",
      "  - E\n",
      "  - H\n",
      " Missing 4 more\n",
      "\n",
      "* 19 | Le dortoir des papillons | 3 / 6 players | 28/08 19:00-23:59\n",
      "  - G\n",
      "  - I\n",
      "  - J\n",
      " Missing 3 more\n",
      "\n",
      "* 20 | Le Dilemme de Chronos | 2 / 4 players | 27/08 09:30-12:30\n",
      "  - B\n",
      "  - J\n",
      " Missing 2 more\n",
      "\n"
     ]
    }
   ],
   "source": [
    "matching.print_activities_status()"
   ]
  }
 ],
 "metadata": {
  "kernelspec": {
   "display_name": "Python 3 (ipykernel)",
   "language": "python",
   "name": "python3"
  },
  "language_info": {
   "codemirror_mode": {
    "name": "ipython",
    "version": 3
   },
   "file_extension": ".py",
   "mimetype": "text/x-python",
   "name": "python",
   "nbconvert_exporter": "python",
   "pygments_lexer": "ipython3",
   "version": "3.10.6"
  }
 },
 "nbformat": 4,
 "nbformat_minor": 4
}
