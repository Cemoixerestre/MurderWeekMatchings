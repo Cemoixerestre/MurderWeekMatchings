{
 "metadata": {
  "language_info": {
   "codemirror_mode": {
    "name": "ipython",
    "version": 3
   },
   "file_extension": ".py",
   "mimetype": "text/x-python",
   "name": "python",
   "nbconvert_exporter": "python",
   "pygments_lexer": "ipython3",
   "version": "3.8.5"
  },
  "orig_nbformat": 2,
  "kernelspec": {
   "name": "python385jvsc74a57bd0916dbcbb3f70747c44a77c7bcd40155683ae19c65e1c03b4aa3499c5328201f1",
   "display_name": "Python 3.8.5 64-bit"
  }
 },
 "nbformat": 4,
 "nbformat_minor": 2,
 "cells": [
  {
   "cell_type": "code",
   "execution_count": 55,
   "metadata": {},
   "outputs": [],
   "source": [
    "from matching.games import HospitalResident\n",
    "import random;\n",
    "\n",
    "def del_player(p, choices, hospital_preferences):\n",
    "    del choices[p]\n",
    "    for (h, pl) in hospital_preferences.items():\n",
    "        if p in pl:\n",
    "            pl.remove(p)\n",
    "\n",
    "def del_hospital(h, choices, hospital_preferences, capacities):\n",
    "    del hospital_preferences[h]\n",
    "    del capacities[h]\n",
    "    for (p, hl) in choices.items():\n",
    "        if h in hl:\n",
    "            hl.remove(h)\n",
    "def cleanup(choices, hospital_preferences, capacities):\n",
    "    #cleanup : delete hospital and players that are finished\n",
    "        cleanup = True\n",
    "        while cleanup: \n",
    "            cleanup = False\n",
    "            to_remove = []\n",
    "            for (h, p) in hospital_preferences.items():\n",
    "                #if an hospital is full or noone wants to go there, delete it\n",
    "                if not (capacities[h] > 0 and len(p) > 0):\n",
    "                    to_remove.append(h)\n",
    "                    cleanup = True\n",
    "            for h in to_remove:\n",
    "                del_hospital(h, choices, hospital_preferences, capacities)\n",
    "            \n",
    "            #if a player don't want anything anymore, delete it\n",
    "            to_remove = []\n",
    "            for (p, hl) in choices.items():\n",
    "                if len(hl) == 0:\n",
    "                    to_remove.append(p)\n",
    "                    cleanup = True    \n",
    "            for p in to_remove:\n",
    "                del_player(p, choices, hospital_preferences)  \n",
    "\n",
    "def remove_conflict(choices, conflits, activite):\n",
    "    for a in conflits[str(activite)]:\n",
    "        if a in choices:\n",
    "            choices.remove(a)\n",
    "\n",
    "def match(choices, capacities, conflits):\n",
    "    players = []\n",
    "    hospital_preferences = dict()\n",
    "    assignments = dict()\n",
    "    #fill the assignments and hospital pref with empty lists\n",
    "    for (h, c) in capacities.items():\n",
    "        assignments[h] = []\n",
    "        hospital_preferences[h] = []\n",
    "    #add all players that wanted an hospital to that hospital's preference list\n",
    "    for (p, c) in choices.items():\n",
    "        for h in c:\n",
    "            hospital_preferences[h].append(p)\n",
    "    #shuffle the hospital preference list\n",
    "    for (h, p) in hospital_preferences.items():\n",
    "            random.shuffle(p)\n",
    "            c = 0\n",
    "            for i in range(len(p) - 1, -1, -1):\n",
    "                while c < i and len(choices[p[c]]) == 1:\n",
    "                    c += 1\n",
    "                if c >= i:\n",
    "                        break\n",
    "                if len(choices[p[i]]) == 1:\n",
    "                    p[c], p[i] = p[i], p[c]\n",
    "                    c += 1\n",
    "    #First round to attribute all the resident who have only one choice\n",
    "    cont = True\n",
    "    while cont:\n",
    "        cont = False\n",
    "        P1C = []\n",
    "        for (p, r) in choices.items():\n",
    "            if len(r) == 1:\n",
    "                cont = True\n",
    "                P1C.append((p, r[0]))\n",
    "        if not cont:\n",
    "            break\n",
    "        random.shuffle(P1C)\n",
    "        for (p, h) in P1C:\n",
    "            if capacities[h] == 0:\n",
    "                del_player(p, choices, hospital_preferences)\n",
    "                continue\n",
    "            capacities[h] -= 1\n",
    "            assignments[h].append(p)\n",
    "            del_player(p, choices, hospital_preferences)\n",
    "        cleanup(choices, hospital_preferences, capacities)\n",
    "    #Delete the hospital that are full, and restart while there are some residents with only one choice.\n",
    "\n",
    "    #while there are still things waiting to be assigned\n",
    "    cont = True\n",
    "    while cont:\n",
    "        cont = False\n",
    "        #create a matching\n",
    "        game = HospitalResident.create_from_dictionaries(choices, hospital_preferences, capacities)\n",
    "        matching = game.solve(optimal=\"resident\")\n",
    "        #process it\n",
    "        for (h, ass) in matching.items():\n",
    "            for p in ass:\n",
    "                remove_conflict(choices[str(p)], conflits, h)\n",
    "            #for some reason the output of matching are not strings anymore\n",
    "            h = str(h)\n",
    "            #add it to the assignments\n",
    "            assignments[h] += ass\n",
    "            #substract the capacities\n",
    "            capacities[h] -= len(ass)\n",
    "            #prevent a player from getting assigned to the same hospital twice\n",
    "            for p in ass:\n",
    "                p = str(p)\n",
    "                hospital_preferences[h].remove(p)\n",
    "                choices[p].remove(h)\n",
    "        #shuffle the hospital preferences and see if it should continue\n",
    "        for (h, p) in hospital_preferences.items():\n",
    "            random.shuffle(hospital_preferences[h])\n",
    "            if capacities[h] > 0 and len(p) > 0:\n",
    "                cont = True\n",
    "        cleanup(choices, hospital_preferences, capacities)\n",
    "    return assignments"
   ]
  },
  {
   "cell_type": "code",
   "execution_count": 56,
   "metadata": {},
   "outputs": [
    {
     "output_type": "stream",
     "name": "stdout",
     "text": [
      "{'a1': ['j3'], 'a2': [j2], 'a3': [j1]}\n"
     ]
    }
   ],
   "source": [
    "choices = {\"j1\":[\"a1\", \"a2\", \"a3\"], \"j2\":[\"a2\",\"a3\"], \"j3\":[\"a1\"]}\n",
    "cap = {\"a1\":1,\"a2\":1, \"a3\":10}\n",
    "conflits = {\"a2\":[\"a3\"], \"a1\":[], \"a3\":[]}\n",
    "print(match(choices, cap, conflits))"
   ]
  },
  {
   "cell_type": "code",
   "execution_count": 57,
   "metadata": {},
   "outputs": [],
   "source": [
    "import csv\n",
    "import pprint\n",
    "def charger_activites():\n",
    "    participants = dict()\n",
    "    choix = dict()\n",
    "    activites = dict()\n",
    "    nb_demandes = dict()\n",
    "    capacites = dict()\n",
    "    conflits = dict()\n",
    "    def supprimer_activite(id):\n",
    "        for (p, c) in choix.items():\n",
    "            if id in c:\n",
    "                c.remove(id)\n",
    "        del activites[id]\n",
    "        del nb_demandes[id]\n",
    "        if id in capacites:\n",
    "            del capacites[id]\n",
    "\n",
    "    with open('choix_activite_interludes', newline='') as csvfile:\n",
    "        fichiers_choix = csv.reader(csvfile, delimiter=',', quotechar='|')\n",
    "        for row in fichiers_choix:\n",
    "            if row[0] == \"id_participant\":\n",
    "                continue\n",
    "            participants[row[0]] = row[1]\n",
    "            if row[0] not in choix:\n",
    "                choix[row[0]] = []\n",
    "            if row[6] not in nb_demandes:\n",
    "                nb_demandes[row[6]] = 0\n",
    "            nb_demandes[row[6]] += 1\n",
    "            choix[row[0]].insert(int(row[3]), row[6])\n",
    "            activites[row[6]] = row[5]\n",
    "    to_remove = []\n",
    "    pprint.pp(activites, sort_dicts=True)\n",
    "    for (k, n) in activites.items():\n",
    "        max_participants = input(\"Nombre de places pour \" + str(n))\n",
    "        if nb_demandes[k] <= int(max_participants):\n",
    "            print(n + \" n'est pas complet, elle a été demandée \" + str(nb_demandes[k]) + \" fois\")\n",
    "            to_remove.append(k)\n",
    "        else:\n",
    "            capacites[k] = int(max_participants)\n",
    "            conflits[k] = input(\"id des activites entrant en conflit avec \" + str(n) + \", séparés par des espaces\").split()\n",
    "    for k in to_remove:\n",
    "        supprimer_activite(k)\n",
    "\n",
    "    return participants, choix, activites, conflits, capacites"
   ]
  },
  {
   "cell_type": "code",
   "execution_count": 58,
   "metadata": {},
   "outputs": [
    {
     "output_type": "stream",
     "name": "stdout",
     "text": [
      "{'1': 'CosmiA',\n",
      " '10': 'T. Geoguessr',\n",
      " '11': 'T. Pokémon Showdown',\n",
      " '2': 'Elémentaire !',\n",
      " '21': 'Chaîne Alimentaire',\n",
      " '23': 'Minecraft',\n",
      " '28': 'The space between us - Séance 1',\n",
      " '3': 'Documents Secrets',\n",
      " '4': 'The space between us - Séance 2',\n",
      " '5': 'Zero Escape : Radical Outcome',\n",
      " '6': 'Demi-Dieux - Séance 1',\n",
      " '7': 'Demi-Dieux - Séance 2',\n",
      " '8': 'Justice et Chevalerie',\n",
      " '9': 'Monster of the Week'}\n",
      "Minecraft n'est pas complet, elle a été demandée 16 fois\n",
      "Zero Escape : Radical Outcome n'est pas complet, elle a été demandée 7 fois\n",
      "T. Geoguessr n'est pas complet, elle a été demandée 14 fois\n",
      "T. Pokémon Showdown n'est pas complet, elle a été demandée 8 fois\n",
      "CosmiA n'est pas complet, elle a été demandée 4 fois\n"
     ]
    }
   ],
   "source": [
    "participants, choix, activites, conflits, capacites = charger_activites()"
   ]
  },
  {
   "cell_type": "code",
   "execution_count": 60,
   "metadata": {},
   "outputs": [],
   "source": [
    "capacites = dict()\n",
    "for (a, n) in activites.items():\n",
    "    capacites[a] = int(input(\"capacite pour \" + n))"
   ]
  },
  {
   "cell_type": "code",
   "execution_count": 64,
   "metadata": {},
   "outputs": [],
   "source": [
    "matchings = match(choix, capacites, conflits)"
   ]
  },
  {
   "cell_type": "code",
   "execution_count": 66,
   "metadata": {},
   "outputs": [
    {
     "output_type": "stream",
     "name": "stdout",
     "text": [
      "{}\n"
     ]
    }
   ],
   "source": [
    "named_matchings = dict()\n",
    "for (act_id, pl) in matchings.items():\n",
    "    act = activites[str(act_id)]\n",
    "    n_p = []\n",
    "    for p in pl:\n",
    "        n_p.append(participants[str(p)])\n",
    "pprint.pp(named_matchings, sort_dicts=True)"
   ]
  },
  {
   "cell_type": "code",
   "execution_count": null,
   "metadata": {},
   "outputs": [],
   "source": []
  }
 ]
}