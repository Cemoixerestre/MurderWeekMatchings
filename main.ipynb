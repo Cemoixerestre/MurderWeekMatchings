{
 "metadata": {
  "language_info": {
   "codemirror_mode": {
    "name": "ipython",
    "version": 3
   },
   "file_extension": ".py",
   "mimetype": "text/x-python",
   "name": "python",
   "nbconvert_exporter": "python",
   "pygments_lexer": "ipython3",
   "version": "3.8.5"
  },
  "orig_nbformat": 2,
  "kernelspec": {
   "name": "python385jvsc74a57bd0916dbcbb3f70747c44a77c7bcd40155683ae19c65e1c03b4aa3499c5328201f1",
   "display_name": "Python 3.8.5 64-bit"
  }
 },
 "nbformat": 4,
 "nbformat_minor": 2,
 "cells": [
  {
   "cell_type": "code",
   "execution_count": 189,
   "metadata": {},
   "outputs": [],
   "source": [
    "from matching.games import HospitalResident\n",
    "import random;\n",
    "def match(choices, capacities):\n",
    "    players = []\n",
    "    hospital_preferences = dict()\n",
    "    assignments = dict()\n",
    "    #fill the assignments and hospital pref with empty lists\n",
    "    for (h, c) in capacities.items():\n",
    "        assignments[h] = []\n",
    "        hospital_preferences[h] = []\n",
    "    #add all players that wanted an hospital to that hospital's preference list\n",
    "    for (p, c) in choices.items():\n",
    "        for h in c:\n",
    "            hospital_preferences[h].append(p)\n",
    "    #shuffle the hospital preference list\n",
    "    for (h, p) in hospital_preferences.items():\n",
    "            random.shuffle(hospital_preferences[h])\n",
    "    #while there are still things waiting to be assigned\n",
    "    cont = True\n",
    "    while cont:\n",
    "        cont = False\n",
    "        #create a matching\n",
    "        game = HospitalResident.create_from_dictionaries(choices, hospital_preferences, capacities)\n",
    "        matching = game.solve(optimal=\"resident\")\n",
    "        #process it\n",
    "        for (h, ass) in matching.items():\n",
    "            h = str(h)\n",
    "            #add it to the assignments\n",
    "            assignments[h] += ass\n",
    "            #substract the capacities\n",
    "            capacities[h] -= len(ass)\n",
    "            #prevent a player from getting assigned to the same hospital twice\n",
    "            for p in ass:\n",
    "                p = str(p)\n",
    "                hospital_preferences[h].remove(p)\n",
    "                choices[p].remove(h)\n",
    "        #shuffle the hospital preferences and see if it should continue\n",
    "        for (h, p) in hospital_preferences.items():\n",
    "            random.shuffle(hospital_preferences[h])\n",
    "            if capacities[h] > 0 and len(p) > 0:\n",
    "                cont = True\n",
    "        #cleanup : delete hospital and players that are finished\n",
    "        cleanup = True\n",
    "        while cleanup: \n",
    "            cleanup = False\n",
    "            to_remove = []\n",
    "            for (h, p) in hospital_preferences.items():\n",
    "                #if an hospital is full or noone wants to go there, delete it\n",
    "                if not (capacities[h] > 0 and len(p) > 0):\n",
    "                    to_remove.append(h)\n",
    "                    cleanup = True\n",
    "                    for (p, hl) in choices.items():\n",
    "                        if h in hl:\n",
    "                            hl.remove(h)\n",
    "            for h in to_remove:\n",
    "                del hospital_preferences[h]\n",
    "            \n",
    "            #if a player don't want anything anymore, delete it\n",
    "            to_remove = []\n",
    "            for (p, hl) in choices.items():\n",
    "                if len(hl) == 0:\n",
    "                    to_remove.append(p)\n",
    "                    cleanup = True\n",
    "                    for (h, pl) in hospital_preferences.items():\n",
    "                        if p in pl:\n",
    "                            pl.remove(p)\n",
    "            for p in to_remove:\n",
    "                del choices[p]   \n",
    "    return assignments"
   ]
  },
  {
   "cell_type": "code",
   "execution_count": 192,
   "metadata": {},
   "outputs": [
    {
     "output_type": "stream",
     "name": "stdout",
     "text": [
      "{'a1': [j1], 'a2': [j2, j1], 'a3': [j5], 'a4': [j3, j6], 'a5': [j4, j6, j3, j1], 'a6': [j4]}\n"
     ]
    }
   ],
   "source": [
    "choices = {\"j1\":[\"a1\",\"a2\",\"a5\"], \"j2\":[\"a2\",\"a3\"], \"j3\":[\"a4\",\"a5\"], \"j4\":[\"a5\",\"a6\"], \"j5\":[\"a3\",\"a1\"], \"j6\":[\"a4\",\"a5\"]}\n",
    "cap = {\"a1\":1,\"a2\":2,\"a3\":1,\"a4\":4,\"a5\":5,\"a6\":2,}\n",
    "print(match(choices, cap))"
   ]
  },
  {
   "cell_type": "code",
   "execution_count": null,
   "metadata": {},
   "outputs": [],
   "source": []
  }
 ]
}