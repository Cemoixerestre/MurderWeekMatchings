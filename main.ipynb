{
 "cells": [
  {
   "cell_type": "code",
   "execution_count": 1,
   "metadata": {
    "pycharm": {
     "name": "#%%\n"
    },
    "scrolled": false
   },
   "outputs": [
    {
     "name": "stdout",
     "output_type": "stream",
     "text": [
      "Defaulting to user installation because normal site-packages is not writeable\n",
      "Requirement already satisfied: pandas in /home/reynaual/.local/lib/python3.10/site-packages (2.0.0)\n",
      "Requirement already satisfied: matching in /home/reynaual/.local/lib/python3.10/site-packages (1.4)\n",
      "Requirement already satisfied: python-dateutil>=2.8.2 in /home/reynaual/.local/lib/python3.10/site-packages (from pandas) (2.8.2)\n",
      "Requirement already satisfied: tzdata>=2022.1 in /home/reynaual/.local/lib/python3.10/site-packages (from pandas) (2023.3)\n",
      "Requirement already satisfied: pytz>=2020.1 in /usr/lib/python3/dist-packages (from pandas) (2022.1)\n",
      "Requirement already satisfied: numpy>=1.21.0 in /usr/lib/python3/dist-packages (from pandas) (1.21.5)\n",
      "Requirement already satisfied: six>=1.5 in /usr/lib/python3/dist-packages (from python-dateutil>=2.8.2->pandas) (1.16.0)\n",
      "Note: you may need to restart the kernel to use updated packages.\n"
     ]
    }
   ],
   "source": [
    "%pip install pandas matching"
   ]
  },
  {
   "cell_type": "code",
   "execution_count": 2,
   "metadata": {
    "pycharm": {
     "name": "#%%\n"
    }
   },
   "outputs": [
    {
     "name": "stderr",
     "output_type": "stream",
     "text": [
      "/usr/lib/python3/dist-packages/pytz/__init__.py:31: DeprecationWarning: invalid escape sequence '\\s'\n",
      "  match = re.match(\"^#\\s*version\\s*([0-9a-z]*)\\s*$\", line)\n"
     ]
    }
   ],
   "source": [
    "from pathlib import Path\n",
    "from hospitalResident import HospitalResidentMatching\n",
    "from loader import load_activities_and_players"
   ]
  },
  {
   "cell_type": "code",
   "execution_count": 3,
   "metadata": {
    "pycharm": {
     "name": "#%%\n"
    }
   },
   "outputs": [
    {
     "name": "stdout",
     "output_type": "stream",
     "text": [
      "Detected 10 columns containing wishes\n",
      "WARNING. Could not find activity Euterpe in the activity list. Check your activity file.\n",
      "WARNING. Could not find activity Lumis in the activity list. Check your activity file.\n",
      "WARNING. Could not find activity Euterpe in the activity list. Check your activity file.\n",
      "WARNING. Could not find activity Papers in the activity list. Check your activity file.\n",
      "WARNING. Could not find activity Papers in the activity list. Check your activity file.\n",
      "WARNING. Could not find activity Lumis in the activity list. Check your activity file.\n",
      "WARNING. Could not find activity Lumis in the activity list. Check your activity file.\n",
      "WARNING. Could not find activity Papers in the activity list. Check your activity file.\n",
      "Could not find player Y\n",
      "Could not find player Z\n",
      "Could not find player Y\n",
      "Could not find player Y\n",
      "Could not find player Y\n",
      "Could not find player Y\n",
      "Could not find player Y\n",
      "Could not find player Y\n",
      "Could not find player Y\n",
      "Could not find player Y\n",
      "Could not find player Y\n",
      "Could not find player Y\n",
      "Could not find player Y\n",
      "Could not find player Y\n",
      "Could not find player Y\n",
      "Could not find player Y\n",
      "Could not find player Y\n",
      "Could not find player Y\n",
      "Could not find player Y\n",
      "Could not find player Y\n",
      "Could not find player Y\n",
      "Could not find player Y\n",
      "Processed player A\n",
      "Found wishes where not available :\n",
      "- 1 | À travers les ténèbres | 0 / 4 players | 2022-08-22 20:00:00 - 2022-08-22 23:59:00\n",
      "- 5 | Que vienne la nuit | 0 / 6 players | 2022-08-23 20:00:00 - 2022-08-23 23:59:00\n",
      "- 9 | Les Enfants de la Nuit d'Eté | 0 / 10 players | 2022-08-24 19:00:00 - 2022-08-24 23:59:00\n",
      "- 8 | À travers les ténèbres | 0 / 4 players | 2022-08-24 20:00:00 - 2022-08-24 23:59:00\n",
      "- 6 | Nostalgie d'innocence | 0 / 4 players | 2022-08-24 13:00:00 - 2022-08-24 18:59:00\n",
      "- 12 | ☾ Éclipse ☉ | 0 / 8 players | 2022-08-26 19:00:00 - 2022-08-26 23:59:00\n",
      "Processed player B\n",
      "Processed player C\n",
      "Processed player D\n",
      "Processed player E\n",
      "Processed player F\n",
      "Found wishes where not available :\n",
      "- 6 | Nostalgie d'innocence | 0 / 4 players | 2022-08-24 13:00:00 - 2022-08-24 18:59:00\n",
      "- 11 | Silence au Quatrième Étage | 0 / 6 players | 2022-08-25 19:00:00 - 2022-08-25 23:59:00\n",
      "- 5 | Que vienne la nuit | 0 / 6 players | 2022-08-23 20:00:00 - 2022-08-23 23:59:00\n",
      "- 7 | Le Dilemme de Chronos | 0 / 4 players | 2022-08-24 20:00:00 - 2022-08-24 23:00:00\n",
      "Processed player G\n",
      "Found wishes where not available :\n",
      "- 0 | Pensine | 0 / 5 players | 2022-08-22 10:00:00 - 2022-08-22 20:00:00\n",
      "Processed player H\n",
      "Processed player I\n",
      "Found wishes where not available :\n",
      "- 8 | À travers les ténèbres | 0 / 4 players | 2022-08-24 20:00:00 - 2022-08-24 23:59:00\n",
      "- 1 | À travers les ténèbres | 0 / 4 players | 2022-08-22 20:00:00 - 2022-08-22 23:59:00\n",
      "- 9 | Les Enfants de la Nuit d'Eté | 0 / 10 players | 2022-08-24 19:00:00 - 2022-08-24 23:59:00\n",
      "Processed player J\n"
     ]
    }
   ],
   "source": [
    "(activities, players) = load_activities_and_players(Path('data/format_standard_activites_cleaned.csv'), Path('data/format_standard_inscriptions_cleaned.csv'))"
   ]
  },
  {
   "cell_type": "code",
   "execution_count": 4,
   "metadata": {
    "pycharm": {
     "name": "#%%\n"
    }
   },
   "outputs": [
    {
     "name": "stdout",
     "output_type": "stream",
     "text": [
      "Activities given to each player:\n",
      "* A | Got 0 activities. Ideal None. Max None.\n",
      "  + Activities\n",
      "* B | Got 0 activities. Ideal 5. Max 20.\n",
      "  + Activities\n",
      "* C | Got 0 activities. Ideal 2. Max 2.\n",
      "  + Activities\n",
      "* D | Got 0 activities. Ideal 7. Max 7.\n",
      "  + Activities\n",
      "* E | Got 0 activities. Ideal 4. Max 4.\n",
      "  + Activities\n",
      "* F | Got 0 activities. Ideal 2. Max 4.\n",
      "  + Activities\n",
      "* G | Got 0 activities. Ideal 2. Max 3.\n",
      "  + Activities\n",
      "* H | Got 0 activities. Ideal None. Max 10.\n",
      "  + Activities\n",
      "* I | Got 0 activities. Ideal 2. Max 3.\n",
      "  + Activities\n",
      "* J | Got 0 activities. Ideal 5. Max 6.\n",
      "  + Activities\n",
      "Players with less activities than ideal:\t8 (= 80.0%)\n",
      "Players with ideal number of activities:\t0 (= 0.0%)\n",
      "Players with more activities than ideal:\t0 (= 0.0%)\n",
      "Players with no ideal number of activities:\t2 (= 20.0%)\n",
      "\n",
      "Activities with a full cast:\n",
      "Activities WITHOUT a full cast:\n",
      "* 0 | Pensine | 0 / 5 players | 2022-08-22 10:00:00 - 2022-08-22 20:00:00\n",
      " Missing 5 more\n",
      "\n",
      "* 1 | À travers les ténèbres | 0 / 4 players | 2022-08-22 20:00:00 - 2022-08-22 23:59:00\n",
      " Missing 4 more\n",
      "\n",
      "* 2 | Hotel California | 0 / 7 players | 2022-08-22 20:00:00 - 2022-08-22 23:00:00\n",
      " Missing 7 more\n",
      "\n",
      "* 3 | This is Halloween | 0 / 7 players | 2022-08-23 13:00:00 - 2022-08-23 19:00:00\n",
      " Missing 7 more\n",
      "\n",
      "* 4 | Songes d'une nuit d'hiver | 0 / 9 players | 2022-08-23 19:00:00 - 2022-08-23 23:59:00\n",
      " Missing 9 more\n",
      "\n",
      "* 5 | Que vienne la nuit | 0 / 6 players | 2022-08-23 20:00:00 - 2022-08-23 23:59:00\n",
      " Missing 6 more\n",
      "\n",
      "* 6 | Nostalgie d'innocence | 0 / 4 players | 2022-08-24 13:00:00 - 2022-08-24 18:59:00\n",
      " Missing 4 more\n",
      "\n",
      "* 7 | Le Dilemme de Chronos | 0 / 4 players | 2022-08-24 20:00:00 - 2022-08-24 23:00:00\n",
      " Missing 4 more\n",
      "\n",
      "* 8 | À travers les ténèbres | 0 / 4 players | 2022-08-24 20:00:00 - 2022-08-24 23:59:00\n",
      " Missing 4 more\n",
      "\n",
      "* 9 | Les Enfants de la Nuit d'Eté | 0 / 10 players | 2022-08-24 19:00:00 - 2022-08-24 23:59:00\n",
      " Missing 10 more\n",
      "\n",
      "* 10 | La nouvelle maison des Barbapapas | 0 / 9 players | 2022-08-25 14:00:00 - 2022-08-22 18:59:00\n",
      " Missing 9 more\n",
      "\n",
      "* 11 | Silence au Quatrième Étage | 0 / 6 players | 2022-08-25 19:00:00 - 2022-08-25 23:59:00\n",
      " Missing 6 more\n",
      "\n",
      "* 12 | ☾ Éclipse ☉ | 0 / 8 players | 2022-08-26 19:00:00 - 2022-08-26 23:59:00\n",
      " Missing 8 more\n",
      "\n",
      "* 13 | Au dernier repos | 0 / 8 players | 2022-08-27 11:00:00 - 2022-08-27 16:59:00\n",
      " Missing 8 more\n",
      "\n",
      "* 14 | ☾ Éclipse ☉ | 0 / 8 players | 2022-08-27 14:00:00 - 2022-08-27 18:59:00\n",
      " Missing 8 more\n",
      "\n",
      "* 15 | Zero Escape Radical Outcome | 0 / 9 players | 2022-08-27 19:00:00 - 2022-08-27 23:59:00\n",
      " Missing 9 more\n",
      "\n",
      "* 16 | Star Potter des Anneaux | 0 / 100 players | 2022-08-28 10:00:00 - 2022-08-28 13:59:00\n",
      " Missing 100 more\n",
      "\n",
      "* 17 | WINTERHORN | 0 / 5 players | 2022-08-28 10:00:00 - 2022-08-28 15:00:00\n",
      " Missing 5 more\n",
      "\n",
      "* 18 | En suivant l'Alouette | 0 / 7 players | 2022-08-28 14:00:00 - 2022-08-28 23:59:00\n",
      " Missing 7 more\n",
      "\n",
      "* 19 | Le dortoir des papillons | 0 / 6 players | 2022-08-28 19:00:00 - 2022-08-28 23:59:00\n",
      " Missing 6 more\n",
      "\n",
      "* 20 | Le Dilemme de Chronos | 0 / 4 players | 2022-08-27 09:30:00 - 2022-08-27 12:30:00\n",
      " Missing 4 more\n",
      "\n"
     ]
    }
   ],
   "source": [
    "matching = HospitalResidentMatching(players, activities)\n",
    "matching.print_players_status()\n",
    "print(\"\")\n",
    "matching.print_activities_status()"
   ]
  },
  {
   "cell_type": "code",
   "execution_count": 5,
   "metadata": {
    "pycharm": {
     "name": "#%%\n"
    }
   },
   "outputs": [],
   "source": [
    "# Pour effectuer une affectation forcée :\n",
    "# matching.force_assign(\"nom-joueureuse\", \"nom-murder\")"
   ]
  },
  {
   "cell_type": "code",
   "execution_count": 6,
   "metadata": {
    "pycharm": {
     "name": "#%%\n"
    }
   },
   "outputs": [
    {
     "name": "stdout",
     "output_type": "stream",
     "text": [
      "\n",
      "Pass 0\n",
      "Casting in priority the players with only one wish and no casts yet\n",
      "Detected 1 players with one wish and no cast yet\n",
      "Giving [Le dortoir des papillons] to I\n",
      "\n",
      "Pass 1\n",
      "Casting in priority the players with only one wish and no casts yet\n",
      "No more priority players. Now casting like usual\n",
      "Giving [Hotel California] to H\n",
      "Giving [☾ Éclipse ☉] to E\n",
      "Giving [☾ Éclipse ☉] to A\n",
      "Giving [Au dernier repos] to F\n",
      "Giving [Le dortoir des papillons] to G\n",
      "Giving [Songes d'une nuit d'hiver] to D\n",
      "Giving [Que vienne la nuit] to B\n",
      "Giving [WINTERHORN] to J\n",
      "Giving [Nostalgie d'innocence] to C\n",
      "Player A: removed conflicting wishes :\n",
      "- 18 | En suivant l'Alouette | 0 / 7 players | 2022-08-28 14:00:00 - 2022-08-28 23:59:00 (constraint - 2 consecutive days)\n",
      "- 17 | WINTERHORN | 1 / 5 players | 2022-08-28 10:00:00 - 2022-08-28 15:00:00 (constraint - 2 consecutive days)\n",
      "- 19 | Le dortoir des papillons | 2 / 6 players | 2022-08-28 19:00:00 - 2022-08-28 23:59:00 (constraint - 2 consecutive days)\n",
      "Player C: removed conflicting wishes :\n",
      "- 5 | Que vienne la nuit | 1 / 6 players | 2022-08-23 20:00:00 - 2022-08-23 23:59:00 (constraint - 2 consecutive days)\n",
      "- 10 | La nouvelle maison des Barbapapas | 0 / 9 players | 2022-08-25 14:00:00 - 2022-08-22 18:59:00 (constraint - 2 consecutive days)\n",
      "Player D: removed conflicting wishes :\n",
      "- 5 | Que vienne la nuit | 1 / 6 players | 2022-08-23 20:00:00 - 2022-08-23 23:59:00 (overlapping)\n",
      "Player E: removed conflicting wishes :\n",
      "- 13 | Au dernier repos | 1 / 8 players | 2022-08-27 11:00:00 - 2022-08-27 16:59:00 (constraint - night then morning)\n",
      "Player F: removed conflicting wishes :\n",
      "- 20 | Le Dilemme de Chronos | 0 / 4 players | 2022-08-27 09:30:00 - 2022-08-27 12:30:00 (constraint - 2 same day)\n",
      "Player H: removed conflicting wishes :\n",
      "- 1 | À travers les ténèbres | 0 / 4 players | 2022-08-22 20:00:00 - 2022-08-22 23:59:00 (overlapping)\n",
      "Player J: removed conflicting wishes :\n",
      "- 4 | Songes d'une nuit d'hiver | 1 / 9 players | 2022-08-23 19:00:00 - 2022-08-23 23:59:00 (blacklist)\n",
      "\n",
      "Pass 2\n",
      "Casting in priority the players with only one wish and no casts yet\n",
      "No more priority players. Now casting like usual\n",
      "Giving [Zero Escape Radical Outcome] to G\n",
      "Giving [WINTERHORN] to C\n",
      "Giving [En suivant l'Alouette] to E\n",
      "Giving [La nouvelle maison des Barbapapas] to J\n",
      "Giving [Pensine] to D\n",
      "Giving [La nouvelle maison des Barbapapas] to B\n",
      "Giving [Au dernier repos] to H\n",
      "Player D: removed conflicting wishes :\n",
      "- 10 | La nouvelle maison des Barbapapas | 2 / 9 players | 2022-08-25 14:00:00 - 2022-08-22 18:59:00 (blacklist)\n",
      "Player J: removed conflicting wishes :\n",
      "- 0 | Pensine | 1 / 5 players | 2022-08-22 10:00:00 - 2022-08-22 20:00:00 (blacklist)\n",
      "\n",
      "Pass 3\n",
      "Casting in priority the players with only one wish and no casts yet\n",
      "No more priority players. Now casting like usual\n",
      "Giving [À travers les ténèbres] to D\n",
      "Giving [En suivant l'Alouette] to B\n",
      "Giving [Silence au Quatrième Étage] to E\n",
      "Giving [Le dortoir des papillons] to J\n",
      "Giving [La nouvelle maison des Barbapapas] to H\n",
      "\n",
      "Pass 4\n",
      "Casting in priority the players with only one wish and no casts yet\n",
      "No more priority players. Now casting like usual\n",
      "Giving [Silence au Quatrième Étage] to B\n",
      "Giving [Le Dilemme de Chronos] to J\n",
      "Could not give Le Dilemme de Chronos to D because of some blacklist conflict\n",
      "Giving [Nostalgie d'innocence] to E\n",
      "Giving [En suivant l'Alouette] to H\n",
      "Player D: removed conflicting wishes :\n",
      "- 7 | Le Dilemme de Chronos | 1 / 4 players | 2022-08-24 20:00:00 - 2022-08-24 23:00:00 (blacklist)\n",
      "Player J: removed conflicting wishes :\n",
      "- 9 | Les Enfants de la Nuit d'Eté | 0 / 10 players | 2022-08-24 19:00:00 - 2022-08-24 23:59:00 (overlapping)\n",
      "\n",
      "Pass 5\n",
      "Casting in priority the players with only one wish and no casts yet\n",
      "No more priority players. Now casting like usual\n",
      "Giving [☾ Éclipse ☉] to J\n",
      "Giving [Le Dilemme de Chronos] to D\n",
      "Giving [Silence au Quatrième Étage] to H\n",
      "Giving [Le Dilemme de Chronos] to B\n",
      "Player D: removed conflicting wishes :\n",
      "- 13 | Au dernier repos | 2 / 8 players | 2022-08-27 11:00:00 - 2022-08-27 16:59:00 (overlapping)\n",
      "\n",
      "Pass 6\n",
      "Casting in priority the players with only one wish and no casts yet\n",
      "No more priority players. Now casting like usual\n",
      "Giving [Star Potter des Anneaux] to H\n",
      "Giving [This is Halloween] to D\n",
      "\n",
      "Pass 7\n",
      "Casting in priority the players with only one wish and no casts yet\n",
      "No more priority players. Now casting like usual\n",
      "Giving [This is Halloween] to H\n",
      "\n",
      "Pass 8\n",
      "Casting in priority the players with only one wish and no casts yet\n",
      "No more priority players. Now casting like usual\n",
      "Giving [Zero Escape Radical Outcome] to H\n",
      "\n",
      "Pass 9\n",
      "Casting in priority the players with only one wish and no casts yet\n",
      "No more priority players. Now casting like usual\n",
      "Giving [À travers les ténèbres] to H\n",
      "\n",
      "Pass 10\n",
      "Casting in priority the players with only one wish and no casts yet\n",
      "No more priority players. Now casting like usual\n",
      "\n",
      "Pass 11: trying to fill the last activities with satisfied players.\n",
      "Last players: B\n",
      "Casting in priority the players with only one wish and no casts yet\n",
      "No more priority players. Now casting like usual\n",
      "Giving [This is Halloween] to B\n",
      "\n",
      "Pass 12: trying to fill the last activities with satisfied players.\n",
      "Last players: \n",
      "Casting in priority the players with only one wish and no casts yet\n",
      "No more priority players. Now casting like usual\n",
      "Done\n"
     ]
    }
   ],
   "source": [
    "matching.solve(verbose=True)"
   ]
  },
  {
   "cell_type": "code",
   "execution_count": 7,
   "metadata": {
    "pycharm": {
     "name": "#%%\n"
    }
   },
   "outputs": [
    {
     "name": "stdout",
     "output_type": "stream",
     "text": [
      "Activities given to each player:\n",
      "* A | Got 1 activities. Ideal None. Max None.\n",
      "  + Activities\n",
      "    - ☾ Éclipse ☉ | Start: 2022-08-27 14:00:00\n",
      "* B | Got 6 activities. Ideal 5. Max 20.\n",
      "  + Activities\n",
      "    - This is Halloween | Start: 2022-08-23 13:00:00\n",
      "    - Que vienne la nuit | Start: 2022-08-23 20:00:00\n",
      "    - Le Dilemme de Chronos | Start: 2022-08-24 20:00:00\n",
      "    - La nouvelle maison des Barbapapas | Start: 2022-08-25 14:00:00\n",
      "    - Silence au Quatrième Étage | Start: 2022-08-25 19:00:00\n",
      "    - En suivant l'Alouette | Start: 2022-08-28 14:00:00\n",
      "* C | Got 2 activities. Ideal 2. Max 2.\n",
      "  + Activities\n",
      "    - Nostalgie d'innocence | Start: 2022-08-24 13:00:00\n",
      "    - WINTERHORN | Start: 2022-08-28 10:00:00\n",
      "* D | Got 5 activities. Ideal 7. Max 7.\n",
      "  + Activities\n",
      "    - Pensine | Start: 2022-08-22 10:00:00\n",
      "    - À travers les ténèbres | Start: 2022-08-22 20:00:00\n",
      "    - This is Halloween | Start: 2022-08-23 13:00:00\n",
      "    - Songes d'une nuit d'hiver | Start: 2022-08-23 19:00:00\n",
      "    - Le Dilemme de Chronos | Start: 2022-08-27 09:30:00\n",
      "* E | Got 4 activities. Ideal 4. Max 4.\n",
      "  + Activities\n",
      "    - Nostalgie d'innocence | Start: 2022-08-24 13:00:00\n",
      "    - Silence au Quatrième Étage | Start: 2022-08-25 19:00:00\n",
      "    - ☾ Éclipse ☉ | Start: 2022-08-26 19:00:00\n",
      "    - En suivant l'Alouette | Start: 2022-08-28 14:00:00\n",
      "* F | Got 1 activities. Ideal 2. Max 4.\n",
      "  + Activities\n",
      "    - Au dernier repos | Start: 2022-08-27 11:00:00\n",
      "* G | Got 2 activities. Ideal 2. Max 3.\n",
      "  + Activities\n",
      "    - Zero Escape Radical Outcome | Start: 2022-08-27 19:00:00\n",
      "    - Le dortoir des papillons | Start: 2022-08-28 19:00:00\n",
      "* H | Got 9 activities. Ideal None. Max 10.\n",
      "  + Activities\n",
      "    - Hotel California | Start: 2022-08-22 20:00:00\n",
      "    - This is Halloween | Start: 2022-08-23 13:00:00\n",
      "    - À travers les ténèbres | Start: 2022-08-24 20:00:00\n",
      "    - La nouvelle maison des Barbapapas | Start: 2022-08-25 14:00:00\n",
      "    - Silence au Quatrième Étage | Start: 2022-08-25 19:00:00\n",
      "    - Au dernier repos | Start: 2022-08-27 11:00:00\n",
      "    - Zero Escape Radical Outcome | Start: 2022-08-27 19:00:00\n",
      "    - Star Potter des Anneaux | Start: 2022-08-28 10:00:00\n",
      "    - En suivant l'Alouette | Start: 2022-08-28 14:00:00\n",
      "* I | Got 1 activities. Ideal 2. Max 3.\n",
      "  + Activities\n",
      "    - Le dortoir des papillons | Start: 2022-08-28 19:00:00\n",
      "* J | Got 5 activities. Ideal 5. Max 6.\n",
      "  + Activities\n",
      "    - Le Dilemme de Chronos | Start: 2022-08-24 20:00:00\n",
      "    - La nouvelle maison des Barbapapas | Start: 2022-08-25 14:00:00\n",
      "    - ☾ Éclipse ☉ | Start: 2022-08-26 19:00:00\n",
      "    - WINTERHORN | Start: 2022-08-28 10:00:00\n",
      "    - Le dortoir des papillons | Start: 2022-08-28 19:00:00\n",
      "Players with less activities than ideal:\t3 (= 30.0%)\n",
      "Players with ideal number of activities:\t4 (= 40.0%)\n",
      "Players with more activities than ideal:\t1 (= 10.0%)\n",
      "Players with no ideal number of activities:\t2 (= 20.0%)\n"
     ]
    }
   ],
   "source": [
    "matching.print_players_status()"
   ]
  },
  {
   "cell_type": "code",
   "execution_count": 8,
   "metadata": {
    "pycharm": {
     "name": "#%%\n"
    }
   },
   "outputs": [
    {
     "name": "stdout",
     "output_type": "stream",
     "text": [
      "Removing B from the activity This is Halloween\n"
     ]
    }
   ],
   "source": [
    "matching.remove_from_activity(\"B\", \"This is Halloween\")"
   ]
  },
  {
   "cell_type": "code",
   "execution_count": 9,
   "metadata": {
    "pycharm": {
     "name": "#%%\n"
    }
   },
   "outputs": [
    {
     "name": "stdout",
     "output_type": "stream",
     "text": [
      "Activities given to each player:\n",
      "* A | Got 1 activities. Ideal None. Max None.\n",
      "  + Activities\n",
      "    - ☾ Éclipse ☉ | Start: 2022-08-27 14:00:00\n",
      "* B | Got 5 activities. Ideal 5. Max 20.\n",
      "  + Activities\n",
      "    - Que vienne la nuit | Start: 2022-08-23 20:00:00\n",
      "    - Le Dilemme de Chronos | Start: 2022-08-24 20:00:00\n",
      "    - La nouvelle maison des Barbapapas | Start: 2022-08-25 14:00:00\n",
      "    - Silence au Quatrième Étage | Start: 2022-08-25 19:00:00\n",
      "    - En suivant l'Alouette | Start: 2022-08-28 14:00:00\n",
      "* C | Got 2 activities. Ideal 2. Max 2.\n",
      "  + Activities\n",
      "    - Nostalgie d'innocence | Start: 2022-08-24 13:00:00\n",
      "    - WINTERHORN | Start: 2022-08-28 10:00:00\n",
      "* D | Got 5 activities. Ideal 7. Max 7.\n",
      "  + Activities\n",
      "    - Pensine | Start: 2022-08-22 10:00:00\n",
      "    - À travers les ténèbres | Start: 2022-08-22 20:00:00\n",
      "    - This is Halloween | Start: 2022-08-23 13:00:00\n",
      "    - Songes d'une nuit d'hiver | Start: 2022-08-23 19:00:00\n",
      "    - Le Dilemme de Chronos | Start: 2022-08-27 09:30:00\n",
      "* E | Got 4 activities. Ideal 4. Max 4.\n",
      "  + Activities\n",
      "    - Nostalgie d'innocence | Start: 2022-08-24 13:00:00\n",
      "    - Silence au Quatrième Étage | Start: 2022-08-25 19:00:00\n",
      "    - ☾ Éclipse ☉ | Start: 2022-08-26 19:00:00\n",
      "    - En suivant l'Alouette | Start: 2022-08-28 14:00:00\n",
      "* F | Got 1 activities. Ideal 2. Max 4.\n",
      "  + Activities\n",
      "    - Au dernier repos | Start: 2022-08-27 11:00:00\n",
      "* G | Got 2 activities. Ideal 2. Max 3.\n",
      "  + Activities\n",
      "    - Zero Escape Radical Outcome | Start: 2022-08-27 19:00:00\n",
      "    - Le dortoir des papillons | Start: 2022-08-28 19:00:00\n",
      "* H | Got 9 activities. Ideal None. Max 10.\n",
      "  + Activities\n",
      "    - Hotel California | Start: 2022-08-22 20:00:00\n",
      "    - This is Halloween | Start: 2022-08-23 13:00:00\n",
      "    - À travers les ténèbres | Start: 2022-08-24 20:00:00\n",
      "    - La nouvelle maison des Barbapapas | Start: 2022-08-25 14:00:00\n",
      "    - Silence au Quatrième Étage | Start: 2022-08-25 19:00:00\n",
      "    - Au dernier repos | Start: 2022-08-27 11:00:00\n",
      "    - Zero Escape Radical Outcome | Start: 2022-08-27 19:00:00\n",
      "    - Star Potter des Anneaux | Start: 2022-08-28 10:00:00\n",
      "    - En suivant l'Alouette | Start: 2022-08-28 14:00:00\n",
      "* I | Got 1 activities. Ideal 2. Max 3.\n",
      "  + Activities\n",
      "    - Le dortoir des papillons | Start: 2022-08-28 19:00:00\n",
      "* J | Got 5 activities. Ideal 5. Max 6.\n",
      "  + Activities\n",
      "    - Le Dilemme de Chronos | Start: 2022-08-24 20:00:00\n",
      "    - La nouvelle maison des Barbapapas | Start: 2022-08-25 14:00:00\n",
      "    - ☾ Éclipse ☉ | Start: 2022-08-26 19:00:00\n",
      "    - WINTERHORN | Start: 2022-08-28 10:00:00\n",
      "    - Le dortoir des papillons | Start: 2022-08-28 19:00:00\n",
      "Players with less activities than ideal:\t3 (= 30.0%)\n",
      "Players with ideal number of activities:\t5 (= 50.0%)\n",
      "Players with more activities than ideal:\t0 (= 0.0%)\n",
      "Players with no ideal number of activities:\t2 (= 20.0%)\n"
     ]
    }
   ],
   "source": [
    "matching.print_players_status()"
   ]
  },
  {
   "cell_type": "code",
   "execution_count": 10,
   "metadata": {
    "pycharm": {
     "name": "#%%\n"
    }
   },
   "outputs": [
    {
     "name": "stdout",
     "output_type": "stream",
     "text": [
      "Activities with a full cast:\n",
      "Activities WITHOUT a full cast:\n",
      "* 0 | Pensine | 1 / 5 players | 2022-08-22 10:00:00 - 2022-08-22 20:00:00\n",
      "  - D\n",
      " Missing 4 more\n",
      "\n",
      "* 1 | À travers les ténèbres | 1 / 4 players | 2022-08-22 20:00:00 - 2022-08-22 23:59:00\n",
      "  - D\n",
      " Missing 3 more\n",
      "\n",
      "* 2 | Hotel California | 1 / 7 players | 2022-08-22 20:00:00 - 2022-08-22 23:00:00\n",
      "  - H\n",
      " Missing 6 more\n",
      "\n",
      "* 3 | This is Halloween | 2 / 7 players | 2022-08-23 13:00:00 - 2022-08-23 19:00:00\n",
      "  - D\n",
      "  - H\n",
      " Missing 5 more\n",
      "\n",
      "* 4 | Songes d'une nuit d'hiver | 1 / 9 players | 2022-08-23 19:00:00 - 2022-08-23 23:59:00\n",
      "  - D\n",
      " Missing 8 more\n",
      "\n",
      "* 5 | Que vienne la nuit | 1 / 6 players | 2022-08-23 20:00:00 - 2022-08-23 23:59:00\n",
      "  - B\n",
      " Missing 5 more\n",
      "\n",
      "* 6 | Nostalgie d'innocence | 2 / 4 players | 2022-08-24 13:00:00 - 2022-08-24 18:59:00\n",
      "  - C\n",
      "  - E\n",
      " Missing 2 more\n",
      "\n",
      "* 7 | Le Dilemme de Chronos | 2 / 4 players | 2022-08-24 20:00:00 - 2022-08-24 23:00:00\n",
      "  - J\n",
      "  - B\n",
      " Missing 2 more\n",
      "\n",
      "* 8 | À travers les ténèbres | 1 / 4 players | 2022-08-24 20:00:00 - 2022-08-24 23:59:00\n",
      "  - H\n",
      " Missing 3 more\n",
      "\n",
      "* 9 | Les Enfants de la Nuit d'Eté | 0 / 10 players | 2022-08-24 19:00:00 - 2022-08-24 23:59:00\n",
      " Missing 10 more\n",
      "\n",
      "* 10 | La nouvelle maison des Barbapapas | 3 / 9 players | 2022-08-25 14:00:00 - 2022-08-22 18:59:00\n",
      "  - J\n",
      "  - B\n",
      "  - H\n",
      " Missing 6 more\n",
      "\n",
      "* 11 | Silence au Quatrième Étage | 3 / 6 players | 2022-08-25 19:00:00 - 2022-08-25 23:59:00\n",
      "  - E\n",
      "  - B\n",
      "  - H\n",
      " Missing 3 more\n",
      "\n",
      "* 12 | ☾ Éclipse ☉ | 2 / 8 players | 2022-08-26 19:00:00 - 2022-08-26 23:59:00\n",
      "  - E\n",
      "  - J\n",
      " Missing 6 more\n",
      "\n",
      "* 13 | Au dernier repos | 2 / 8 players | 2022-08-27 11:00:00 - 2022-08-27 16:59:00\n",
      "  - F\n",
      "  - H\n",
      " Missing 6 more\n",
      "\n",
      "* 14 | ☾ Éclipse ☉ | 1 / 8 players | 2022-08-27 14:00:00 - 2022-08-27 18:59:00\n",
      "  - A\n",
      " Missing 7 more\n",
      "\n",
      "* 15 | Zero Escape Radical Outcome | 2 / 9 players | 2022-08-27 19:00:00 - 2022-08-27 23:59:00\n",
      "  - G\n",
      "  - H\n",
      " Missing 7 more\n",
      "\n",
      "* 16 | Star Potter des Anneaux | 1 / 100 players | 2022-08-28 10:00:00 - 2022-08-28 13:59:00\n",
      "  - H\n",
      " Missing 99 more\n",
      "\n",
      "* 17 | WINTERHORN | 2 / 5 players | 2022-08-28 10:00:00 - 2022-08-28 15:00:00\n",
      "  - J\n",
      "  - C\n",
      " Missing 3 more\n",
      "\n",
      "* 18 | En suivant l'Alouette | 3 / 7 players | 2022-08-28 14:00:00 - 2022-08-28 23:59:00\n",
      "  - E\n",
      "  - B\n",
      "  - H\n",
      " Missing 4 more\n",
      "\n",
      "* 19 | Le dortoir des papillons | 3 / 6 players | 2022-08-28 19:00:00 - 2022-08-28 23:59:00\n",
      "  - I\n",
      "  - G\n",
      "  - J\n",
      " Missing 3 more\n",
      "\n",
      "* 20 | Le Dilemme de Chronos | 1 / 4 players | 2022-08-27 09:30:00 - 2022-08-27 12:30:00\n",
      "  - D\n",
      " Missing 3 more\n",
      "\n"
     ]
    }
   ],
   "source": [
    "matching.print_activities_status()"
   ]
  },
  {
   "cell_type": "code",
   "execution_count": null,
   "metadata": {},
   "outputs": [],
   "source": []
  }
 ],
 "metadata": {
  "kernelspec": {
   "display_name": "Python 3 (ipykernel)",
   "language": "python",
   "name": "python3"
  },
  "language_info": {
   "codemirror_mode": {
    "name": "ipython",
    "version": 3
   },
   "file_extension": ".py",
   "mimetype": "text/x-python",
   "name": "python",
   "nbconvert_exporter": "python",
   "pygments_lexer": "ipython3",
   "version": "3.10.6"
  }
 },
 "nbformat": 4,
 "nbformat_minor": 4
}
